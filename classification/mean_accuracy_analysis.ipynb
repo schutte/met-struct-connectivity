{
 "cells": [
  {
   "cell_type": "code",
   "execution_count": 1,
   "metadata": {
    "collapsed": false
   },
   "outputs": [
    {
     "name": "stdout",
     "output_type": "stream",
     "text": [
      "Populating the interactive namespace from numpy and matplotlib\n"
     ]
    }
   ],
   "source": [
    "%pylab inline"
   ]
  },
  {
   "cell_type": "code",
   "execution_count": 2,
   "metadata": {
    "collapsed": true
   },
   "outputs": [],
   "source": [
    "import pandas\n",
    "import scipy.stats\n",
    "import re"
   ]
  },
  {
   "cell_type": "code",
   "execution_count": 3,
   "metadata": {
    "collapsed": true
   },
   "outputs": [],
   "source": [
    "df = pandas.read_csv(\"adftld.csv\")"
   ]
  },
  {
   "cell_type": "code",
   "execution_count": 4,
   "metadata": {
    "collapsed": true
   },
   "outputs": [],
   "source": [
    "real_struct = (df[\"rs_seed\"] == 0).as_matrix()\n",
    "weighted = ~(df[\"method\"].isin([\"zero_tfphammers\", \"zero_tfphammers_narrow\",\n",
    "                                \"unweighted_tfphammers\", \"unweighted_tfphammers_narrow\"])).as_matrix()"
   ]
  },
  {
   "cell_type": "code",
   "execution_count": 87,
   "metadata": {
    "collapsed": false
   },
   "outputs": [],
   "source": [
    "narcs = df[[\"min_narcs0\", \"min_narcs1\"]].as_matrix()"
   ]
  },
  {
   "cell_type": "code",
   "execution_count": 55,
   "metadata": {
    "collapsed": true
   },
   "outputs": [],
   "source": [
    "mean_narcs = narcs.mean(axis=1)\n",
    "min_narcs = narcs.min(axis=1)\n",
    "max_narcs = narcs.max(axis=1)\n",
    "diff_narcs = np.abs(narcs[:, 0] - narcs[:, 1])\n",
    "mean_acc = df[\"mean_accuracy\"].as_matrix()\n",
    "peak_acc = df[\"peak_accuracy\"].as_matrix()"
   ]
  },
  {
   "cell_type": "code",
   "execution_count": 7,
   "metadata": {
    "collapsed": false
   },
   "outputs": [
    {
     "name": "stdout",
     "output_type": "stream",
     "text": [
      "mean: (0.59383441122001224, 4.0520731977696081e-59)\n",
      "min: (0.57694668534142179, 3.7367064433450935e-55)\n",
      "max: (0.60701666798094722, 2.2171974789251559e-62)\n"
     ]
    }
   ],
   "source": [
    "print(\"mean:\", scipy.stats.pearsonr(mean_narcs, mean_acc))\n",
    "print(\"min:\", scipy.stats.pearsonr(min_narcs, mean_acc))\n",
    "print(\"max:\", scipy.stats.pearsonr(max_narcs, mean_acc))"
   ]
  },
  {
   "cell_type": "code",
   "execution_count": 8,
   "metadata": {
    "collapsed": false
   },
   "outputs": [
    {
     "name": "stdout",
     "output_type": "stream",
     "text": [
      "mean: (0.22478235093419399, 2.1630179282954251e-08)\n",
      "min: (0.20085356844948676, 6.0618908916162684e-07)\n",
      "max: (0.24683987793361165, 7.0665761640039325e-10)\n"
     ]
    }
   ],
   "source": [
    "print(\"mean:\", scipy.stats.pearsonr(mean_narcs, peak_acc))\n",
    "print(\"min:\", scipy.stats.pearsonr(min_narcs, peak_acc))\n",
    "print(\"max:\", scipy.stats.pearsonr(max_narcs, peak_acc))"
   ]
  },
  {
   "cell_type": "code",
   "execution_count": 9,
   "metadata": {
    "collapsed": false
   },
   "outputs": [
    {
     "data": {
      "image/png": "[encoded data removed]",
      "text/plain": [
       "<matplotlib.figure.Figure at 0x7fd47cb89518>"
      ]
     },
     "metadata": {},
     "output_type": "display_data"
    }
   ],
   "source": [
    "figsize(15 * 0.5, 5 * 0.5)\n",
    "scatter(min_narcs, mean_acc, alpha=0.6)\n",
    "xlabel(\"Minimal number of connections\")\n",
    "ylabel(\"Mean accuracy\")\n",
    "xlim(-5, 145)\n",
    "grid()\n",
    "tight_layout()\n",
    "savefig(\"/tmp/nc_meanacc.pdf\")"
   ]
  },
  {
   "cell_type": "code",
   "execution_count": 10,
   "metadata": {
    "collapsed": false
   },
   "outputs": [
    {
     "data": {
      "text/plain": [
       "0.84507042253499998"
      ]
     },
     "execution_count": 10,
     "metadata": {},
     "output_type": "execute_result"
    }
   ],
   "source": [
    "target_peak = df[df.method.isin([\"unweighted_tfphammers\", \"unweighted_tfphammers_narrow\"])].peak_accuracy.iloc[0]\n",
    "target_peak"
   ]
  },
  {
   "cell_type": "code",
   "execution_count": 11,
   "metadata": {
    "collapsed": false
   },
   "outputs": [
    {
     "data": {
      "text/plain": [
       "0.65454545454545454"
      ]
     },
     "execution_count": 11,
     "metadata": {},
     "output_type": "execute_result"
    }
   ],
   "source": [
    "x = df[weighted & real_struct].peak_accuracy >= target_peak\n",
    "np.sum(x) / len(x)"
   ]
  },
  {
   "cell_type": "code",
   "execution_count": 12,
   "metadata": {
    "collapsed": false
   },
   "outputs": [
    {
     "data": {
      "text/plain": [
       "0.49090909090909091"
      ]
     },
     "execution_count": 12,
     "metadata": {},
     "output_type": "execute_result"
    }
   ],
   "source": [
    "x = df[weighted & ~real_struct].peak_accuracy >= target_peak\n",
    "np.sum(x) / len(x)"
   ]
  },
  {
   "cell_type": "code",
   "execution_count": 5,
   "metadata": {
    "collapsed": false
   },
   "outputs": [],
   "source": [
    "method_classes = unique([s.split(\"_\", 1)[1] for s in df.method])\n",
    "method_regexes = [re.compile(\"(exp|pow)[0-9.]+_\" + s) for s in method_classes]"
   ]
  },
  {
   "cell_type": "code",
   "execution_count": 6,
   "metadata": {
    "collapsed": false
   },
   "outputs": [
    {
     "name": "stderr",
     "output_type": "stream",
     "text": [
      "/home/michael/py3/lib/python3.5/site-packages/ipykernel/__main__.py:5: UserWarning: This pattern has match groups. To actually get the groups, use str.extract.\n"
     ]
    }
   ],
   "source": [
    "best_in_class = {}\n",
    "best_mean_acc = {}\n",
    "rand_mean_acc = {}\n",
    "for cls, regex in zip(method_classes, method_regexes):\n",
    "    matched = df.method.str.match(regex, as_indexer=True)\n",
    "    i = df[matched & real_struct].mean_accuracy.argmax()\n",
    "    row = df.ix[i]\n",
    "    m = row.method\n",
    "    best_mean_acc[m] = row.mean_accuracy\n",
    "    rand_mean_acc[m] = df[(df.method == m) & ~real_struct].mean_accuracy.as_matrix()"
   ]
  },
  {
   "cell_type": "code",
   "execution_count": 7,
   "metadata": {
    "collapsed": false,
    "scrolled": true
   },
   "outputs": [
    {
     "name": "stdout",
     "output_type": "stream",
     "text": [
      "exp0.1_diff_normsc_tfphammers 0.781690140845 0.815971830986 ± 0.0172223288031 0.838028169014 / 0.841971830986 0.0655640704598\n",
      "exp0.01_tfphammers 0.766478873239 0.819436619718 ± 0.0253694776212 0.854507042254 / 0.872253521127 0.0186754675802\n",
      "exp0.05_normsc_tfphammers 0.785915492958 0.818422535211 ± 0.0224257729984 0.851971830986 / 0.855492957746 0.0491626195789\n",
      "pow3_fa_tfphammers 0.782957746479 0.828535211268 ± 0.0196304076924 0.855915492958 / 0.861126760563 0.0484312401763\n",
      "exp0.1_diff_fa_tfphammers 0.773098591549 0.803197183099 ± 0.0188065934911 0.832535211268 / 0.848309859155 0.00822514124907\n"
     ]
    }
   ],
   "source": [
    "for cls in best_mean_acc.keys():\n",
    "    rand_min = rand_mean_acc[cls].min()\n",
    "    rand_max = rand_mean_acc[cls].max()\n",
    "    rand_mean = mean(rand_mean_acc[cls])\n",
    "    rand_std = std(rand_mean_acc[cls])\n",
    "    best = best_mean_acc[cls]\n",
    "    print(cls, rand_min, rand_mean, \"±\", rand_std, rand_max, \"/\", best, 1 - scipy.stats.norm.cdf(best, loc=rand_mean, scale=rand_std))"
   ]
  },
  {
   "cell_type": "code",
   "execution_count": 68,
   "metadata": {
    "collapsed": false
   },
   "outputs": [
    {
     "data": {
      "text/html": [
       "<div>\n",
       "<table border=\"1\" class=\"dataframe\">\n",
       "  <thead>\n",
       "    <tr style=\"text-align: right;\">\n",
       "      <th></th>\n",
       "      <th>problem</th>\n",
       "      <th>method</th>\n",
       "      <th>fold_seed</th>\n",
       "      <th>rs_seed</th>\n",
       "      <th>min_narcs0</th>\n",
       "      <th>min_narcs1</th>\n",
       "      <th>peak_accuracy</th>\n",
       "      <th>mean_accuracy</th>\n",
       "      <th>mean_accuracy_rank</th>\n",
       "    </tr>\n",
       "  </thead>\n",
       "  <tbody>\n",
       "    <tr>\n",
       "      <th>55</th>\n",
       "      <td>adftld</td>\n",
       "      <td>zero_tfphammers</td>\n",
       "      <td>0</td>\n",
       "      <td>0</td>\n",
       "      <td>0</td>\n",
       "      <td>0</td>\n",
       "      <td>0.816901</td>\n",
       "      <td>0.789718</td>\n",
       "      <td>0</td>\n",
       "    </tr>\n",
       "    <tr>\n",
       "      <th>177</th>\n",
       "      <td>adftld</td>\n",
       "      <td>unweighted_tfphammers</td>\n",
       "      <td>0</td>\n",
       "      <td>0</td>\n",
       "      <td>0</td>\n",
       "      <td>0</td>\n",
       "      <td>0.845070</td>\n",
       "      <td>0.767183</td>\n",
       "      <td>0</td>\n",
       "    </tr>\n",
       "  </tbody>\n",
       "</table>\n",
       "</div>"
      ],
      "text/plain": [
       "    problem                 method  fold_seed  rs_seed  min_narcs0  \\\n",
       "55   adftld        zero_tfphammers          0        0           0   \n",
       "177  adftld  unweighted_tfphammers          0        0           0   \n",
       "\n",
       "     min_narcs1  peak_accuracy  mean_accuracy  mean_accuracy_rank  \n",
       "55            0       0.816901       0.789718                   0  \n",
       "177           0       0.845070       0.767183                   0  "
      ]
     },
     "execution_count": 68,
     "metadata": {},
     "output_type": "execute_result"
    }
   ],
   "source": [
    "df[~weighted]"
   ]
  },
  {
   "cell_type": "code",
   "execution_count": null,
   "metadata": {
    "collapsed": true
   },
   "outputs": [],
   "source": []
  }
 ],
 "metadata": {
  "kernelspec": {
   "display_name": "Python 3",
   "language": "python",
   "name": "python3"
  },
  "language_info": {
   "codemirror_mode": {
    "name": "ipython",
    "version": 3
   },
   "file_extension": ".py",
   "mimetype": "text/x-python",
   "name": "python",
   "nbconvert_exporter": "python",
   "pygments_lexer": "ipython3",
   "version": "3.5.1+"
  }
 },
 "nbformat": 4,
 "nbformat_minor": 0
}
